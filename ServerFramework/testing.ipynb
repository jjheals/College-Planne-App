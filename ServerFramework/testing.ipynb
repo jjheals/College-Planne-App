{
 "cells": [
  {
   "cell_type": "code",
   "execution_count": 1,
   "metadata": {},
   "outputs": [],
   "source": [
    "import pandas as pd\n",
    "import numpy as np\n",
    "from data.classes.User import User\n",
    "from datetime import datetime"
   ]
  },
  {
   "cell_type": "code",
   "execution_count": 2,
   "metadata": {},
   "outputs": [
    {
     "name": "stdout",
     "output_type": "stream",
     "text": [
      "  assignments   subjects\n",
      "0    Calculus  Homework1\n",
      "1     English     Essay1\n"
     ]
    },
    {
     "data": {
      "text/plain": [
       "'{\"assignments\":{\"0\":\"Calculus\",\"1\":\"English\"},\"subjects\":{\"0\":\"Homework1\",\"1\":\"Essay1\"}}'"
      ]
     },
     "execution_count": 2,
     "metadata": {},
     "output_type": "execute_result"
    }
   ],
   "source": [
    "assignments = ['Calculus', 'English']\n",
    "subjects = ['Homework1', 'Essay1']\n",
    "\n",
    "d = { 'assignments': assignments,\n",
    "      'subjects': subjects}\n",
    "\n",
    "\n",
    "\n",
    "userDF = pd.DataFrame(data=d)\n",
    "print(userDF)\n",
    "userDF.to_json()\n"
   ]
  },
  {
   "attachments": {},
   "cell_type": "markdown",
   "metadata": {},
   "source": [
    "Subject class"
   ]
  },
  {
   "cell_type": "code",
   "execution_count": 3,
   "metadata": {},
   "outputs": [],
   "source": [
    "class Subject:\n",
    "    \n",
    "    subjectName: str\n",
    "    \n",
    "    def __init__(self, subjectName):\n",
    "        self.subjectName = subjectName\n",
    "        \n",
    "        \n",
    "# Subject list class\n",
    "class SubjectList: \n",
    "    \n",
    "    listOfSubjects: list[Subject]\n",
    "    \n",
    "    def __init__(self, listOfSubjects: list[Subject]):\n",
    "        self.listOfSubjects = listOfSubjects\n",
    "        "
   ]
  },
  {
   "attachments": {},
   "cell_type": "markdown",
   "metadata": {},
   "source": [
    "Assignment class"
   ]
  },
  {
   "cell_type": "code",
   "execution_count": 4,
   "metadata": {},
   "outputs": [],
   "source": [
    "class Assignment: \n",
    "    \n",
    "    assignmentName: str\n",
    "    forSubject: str\n",
    "    dueDate: datetime\n",
    "    \n",
    "    def __init__(self, assignmentName: str, forSubject: str, dueDate: datetime):\n",
    "        self.assignmentName = assignmentName \n",
    "        self.forSubject = forSubject\n",
    "        self.dueDate = dueDate\n",
    "        \n",
    "\n",
    "# Assignment list class\n",
    "class AssignmentList:\n",
    "    \n",
    "    listOfAssignments: list[Assignment]\n",
    "\n",
    "    def __init__(self, listOfAssignments: list[Assignment]):\n",
    "        self.listOfAssignments = listOfAssignments"
   ]
  },
  {
   "attachments": {},
   "cell_type": "markdown",
   "metadata": {},
   "source": [
    "User class"
   ]
  },
  {
   "cell_type": "code",
   "execution_count": 7,
   "metadata": {},
   "outputs": [],
   "source": [
    "# STORE USERS AS A CLASS \n",
    "# Give each user the regular attributes: assignments, subjects\n",
    "#       Save the assignments as an array of \"Assignment\" objects\n",
    "#       Save the subjects as an array of \"Subject\" objects\n",
    "#\n",
    "# Write functions to convert these into DataFrames as needed \n",
    "#\n",
    "# Storing as a CLASS preserves the structure and ability to query (easily), but a dataframe provides a better\n",
    "#   representation for assignments, subjects, etc\n",
    "#\n",
    "# Save each user as a [username].dat file\n",
    "\n",
    "class User: \n",
    "    \n",
    "    username: str\n",
    "    assignments: AssignmentList\n",
    "    subjects: SubjectList\n",
    "    phoneNumber: str             # Phone number must be \"+10000000000\"\n",
    "    \n",
    "    def __init__(self, username: str, assignments: AssignmentList, subjects: SubjectList, phoneNumber:str = None):\n",
    "        self.assignments = assignments\n",
    "        self.subjects = subjects\n",
    "        self.username = username \n",
    "        self.phoneNumber = phoneNumber\n",
    "    \n",
    "    \n",
    "        \n",
    "    def getAllAssignments():\n",
    "        pass \n",
    "    \n",
    "    \n",
    "    def getAllSubjects():\n",
    "        pass\n",
    "    \n",
    "    \n",
    "    def addAssignment():\n",
    "        pass \n",
    "    \n",
    "    \n",
    "    def addSubject():\n",
    "        pass\n",
    "    \n",
    "    \n",
    "    def sortAssignments():\n",
    "        pass\n",
    "    \n",
    "    \n",
    "    # -------------------------------------------------------------------------------------------#\n",
    "    # Sort this user's assignments by date\n",
    "    # @return an AssignmentList object with assignments (as datatype Assignment) sorted by due date\n",
    "    #\n",
    "    #    returnAssignmentList = [assignment1:Assignment, assignment3:Assignment, assignment2:Assignment]\n",
    "    #\n",
    "    # NOTE: useful to call in assignmentsAsDataFrame to return a DataFrame object \n",
    "    #\n",
    "    def sortAssignments(self):\n",
    "        \n",
    "        sortedAssignments: AssignmentList = []  # Final sorted list\n",
    "        loa: list[Assignment] = []              # List of assignments\n",
    "        #loan: list[str] = []                    # List of assignment names\n",
    "        lod: list[str] = []                     # List of due dates\n",
    "        \n",
    "        for a in self.assignments.listOfAssignments:\n",
    "            loa.append(a)\n",
    "            #loan.append(a.assignmentName)\n",
    "            lod.append(a.dueDate)\n",
    "        \n",
    "        sortedLod = sorted(lod)\n",
    "        \n",
    "        for d in sortedLod: \n",
    "            for a in loa: \n",
    "                if a.dueDate == d:   \n",
    "                    sortedAssignments.append(a)\n",
    "                    loa.remove(a)\n",
    "                    \n",
    "        return sortedAssignments\n",
    "    \n",
    "    # -------------------------------------------------------------------------------------------#\n",
    "    # Convert this user's assignments to a data frame\n",
    "    # @return a dataframe representation of the assignments, due dates, and subjects they're for\n",
    "    # \n",
    "    #       assignments        due-dates       subjects\n",
    "    #     0     \"Essay\"     \"01/25/2023\"      \"English\"\n",
    "    #     1   \"Calc HW\"      \"02/1/2023\"     \"Calculus\"\n",
    "    #     2  \"Chem Lab\"     \"01/24/2023\"    \"Chemistry\"\n",
    "    #    ...\n",
    "    #\n",
    "    def assignmentsAsDataFrame(self):\n",
    "        theseAssignments = self.assignments.listOfAssignments\n",
    "                \n",
    "        loa = [] # List of Assignments\n",
    "        lod = [] # List of dueDates\n",
    "        los = [] # List of Subjects (strings)\n",
    "        \n",
    "        for a in theseAssignments:\n",
    "            loa.append(a.assignmentName)\n",
    "            lod.append(a.dueDate)\n",
    "            los.append(a.forSubject)\n",
    "            \n",
    "        d = { 'assignments': loa,\n",
    "              'due-dates': lod,\n",
    "              'subjects': los\n",
    "              }\n",
    "        \n",
    "        return pd.DataFrame(data=d)\n",
    "\n",
    "\n",
    "    def save():\n",
    "        pass\n",
    "    "
   ]
  },
  {
   "cell_type": "code",
   "execution_count": 11,
   "metadata": {},
   "outputs": [
    {
     "name": "stdout",
     "output_type": "stream",
     "text": [
      "\n",
      "User1 as dataframe\n",
      "  assignments   due-dates   subjects\n",
      "0       Essay  01/25/2023    English\n",
      "1  Lab Report  02/23/2023    Physics\n",
      "2    Chem Lab  03/12/2023  Chemistry\n",
      "3  Physics HW  01/24/2023    Physics\n",
      "\n",
      "User1 sorted assignments\n",
      "Physics HW, 01/24/2023\n",
      "Essay, 01/25/2023\n",
      "Lab Report, 02/23/2023\n",
      "Chem Lab, 03/12/2023\n"
     ]
    }
   ],
   "source": [
    "assignment1 = Assignment(\"Essay\", \"English\", \"01/25/2023\")\n",
    "assignment2 = Assignment(\"Lab Report\", \"Physics\", \"02/23/2023\")\n",
    "assignment3 = Assignment(\"Chem Lab\", \"Chemistry\", \"03/12/2023\")\n",
    "assignment4 = Assignment(\"Physics HW\", \"Physics\", \"01/24/2023\")\n",
    "\n",
    "subject1 = Subject(\"English\")\n",
    "subject2 = Subject(\"Physics\")\n",
    "subject3 = Subject(\"Chemistry\")\n",
    "\n",
    "assignmentList1 = AssignmentList([assignment1, assignment2, assignment3, assignment4])\n",
    "subjectList1 = SubjectList([subject1, subject2, subject3])\n",
    "\n",
    "\n",
    "user1 = User(\"User1\", assignmentList1, subjectList1)\n",
    "\n",
    "print(\"\\nUser1 as dataframe\")\n",
    "print(user1.assignmentsAsDataFrame())\n",
    "\n",
    "print(\"\\nUser1 sorted assignments\")\n",
    "for a in user1.sortAssignments(): print(a.assignmentName + ', ' + a.dueDate)\n",
    "\n"
   ]
  },
  {
   "cell_type": "code",
   "execution_count": null,
   "metadata": {},
   "outputs": [],
   "source": []
  }
 ],
 "metadata": {
  "kernelspec": {
   "display_name": "Python 3",
   "language": "python",
   "name": "python3"
  },
  "language_info": {
   "codemirror_mode": {
    "name": "ipython",
    "version": 3
   },
   "file_extension": ".py",
   "mimetype": "text/x-python",
   "name": "python",
   "nbconvert_exporter": "python",
   "pygments_lexer": "ipython3",
   "version": "3.11.1"
  },
  "orig_nbformat": 4,
  "vscode": {
   "interpreter": {
    "hash": "aee8b7b246df8f9039afb4144a1f6fd8d2ca17a180786b69acc140d282b71a49"
   }
  }
 },
 "nbformat": 4,
 "nbformat_minor": 2
}
